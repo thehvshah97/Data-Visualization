{
 "cells": [
  {
   "cell_type": "markdown",
   "metadata": {},
   "source": [
    "# Assignment 1: Dino Fun World\n",
    "\n",
    "### Assignment Description\n",
    "\n",
    "You, in your role as a data explorer and visualizer, have been asked by the administrators of a small amusement park in your hometown to answer a few questions about their park operations. The dataset that they provided for you to perform the requested analysis includes the movement and communication data captured from the park attendees' apps during one weekend (Friday, Saturday, and Sunday).\n",
    "\n",
    "The administrators would like you to answer four relatively simple questions about the park activities on the day in question. These questions all deal with park operations and can be answered using the data provided.\n",
    "* **Question 1:** What is the most popular attraction to visit in the park?\n",
    "\n",
    "\n",
    "* **Question 2:** What ride (note that not all attractions are rides) has the longest average visit time?\n",
    "\n",
    "\n",
    "* **Question 3:** Which Fast Food offering has the fewest visitors?\n",
    "\n",
    "\n",
    "* **Question 4:** Compute the Skyline of number of visits and visit time for the park's ride, and report the rides that appear in the Skyline. (Note: Your answer should be three points, which can be given in any order.)\n",
    "\n",
    "\n",
    "### Directions\n",
    "\n",
    "The database provided by the park administration is formatted to be readable by any SQL database library. The course staff recommends the sqlite3 library. The database contains three tables, named 'checkin', 'attractions', and 'sequences'. The database file is named 'dinofunworld.db' .\n",
    "\n",
    "The information contained in each of these tables is listed below:\n",
    "\n",
    "`checkin`:\n",
    "    - The check-in data for all visitors for the day in the park. The data includes two types of check-ins: inferred and actual checkins.\n",
    "    - Fields: visitorID, timestamp, attraction, duration, type\n",
    "\n",
    "`attraction`:\n",
    "    - The attractions in the park by their corresponding AttractionID, Name, Region, Category, and type. Regions are from the VAST Challenge map such as Coaster Alley, Tundra Land, etc. Categories include Thrill rides, Kiddie Rides, etc. Type is broken into Outdoor Coaster, Other Ride, Carousel, etc.\n",
    "    - Fields: AttractionID, Name, Region, Category, type\n",
    "    \n",
    "`sequences`:\n",
    "    - The check-in sequences of visitors. These sequences list the position of each visitor to the park every five minutes. If the visitor has not entered the part yet, the sequence has a value of 0 for that time interval. If the visitor is in the park, the sequence lists the attraction they have most recently checked in to until they check in to a new one or leave the park.\n",
    "    - Fields: visitorID, sequence\n",
    "    \n",
    "Using the provided data, answer the four questions that the administrators have asked.\n",
    "\n",
    "### Submission Directions for Assignment Deliverables\n",
    "\n",
    "This assignment will be auto-graded. We recommend that you submit this assignment. In order for your answers to be correctly registered in the system, you must place the code for your answers in the cell indicated for each question. In addition, you should submit the assignment with the output of the code in the cell's display area. The display area should contain only your answer to the question with no extraneous information, or else the answer may not be picked up correctly. \n",
    "\n",
    "Each cell that is going to be graded has a set of comment lines at the beginning of the cell. These lines are extremely important and must not be modified or removed. \n",
    "\n",
    "Please execute each cell in Jupyter Notebook before submitting.\n",
    "\n",
    "\n"
   ]
  },
  {
   "cell_type": "code",
   "execution_count": 75,
   "metadata": {},
   "outputs": [],
   "source": [
    "import sqlite3\n",
    "import pandas as pd\n",
    "import math\n",
    "db_filename = 'dinofunworld.db'\n",
    "connection = sqlite3. connect(db_filename) \n",
    "dbconnection= connection.cursor()"
   ]
  },
  {
   "cell_type": "markdown",
   "metadata": {},
   "source": [
    "### Question 1: \n",
    "What is the most popular attraction to visit in the park?\n",
    "\n",
    "**Note:** Your output should be the name of the attraction."
   ]
  },
  {
   "cell_type": "code",
   "execution_count": 76,
   "metadata": {
    "scrolled": false
   },
   "outputs": [
    {
     "name": "stdout",
     "output_type": "stream",
     "text": [
      "Atmosfear\n"
     ]
    }
   ],
   "source": [
    "# your code here for Q1\n",
    "query = \"select a.Name from checkin c inner join attraction a on c.attraction = a.AttractionID group by a.Name order by count(a.Name) desc limit 1;\"\n",
    "dbconnection.execute(query)\n",
    "popular_attraction = dbconnection.fetchone()[0]\n",
    "print(popular_attraction)"
   ]
  },
  {
   "cell_type": "markdown",
   "metadata": {},
   "source": [
    "### Question 2: \n",
    "\n",
    "What ride (note that not all attractions are rides) has the  longest average visit time?\n",
    "\n",
    "**Note:** Your output should be the name of the ride.\n"
   ]
  },
  {
   "cell_type": "code",
   "execution_count": 77,
   "metadata": {},
   "outputs": [
    {
     "name": "stdout",
     "output_type": "stream",
     "text": [
      "TerrorSaur\n"
     ]
    }
   ],
   "source": [
    "# your code here for Q2\n",
    "query = \"select a.name from checkin c inner join attraction a on c.attraction = a.AttractionID where a.category like '%Rides%' group by c.attraction order by avg(SUBSTR(SUBSTR('0000000'||c.duration, LENGTH(c.duration),8),1,2)*3600 + SUBSTR(SUBSTR('0000000'||c.duration,LENGTH(c.duration),8),4,2)*60 + SUBSTR(SUBSTR('0000000'||c.duration,LENGTH(c.duration),8),7,2)) desc limit 1\"\n",
    "dbconnection.execute(query)\n",
    "average_time = dbconnection.fetchone()[0]\n",
    "print(average_time)"
   ]
  },
  {
   "cell_type": "markdown",
   "metadata": {},
   "source": [
    "### Question 3:\n",
    "\n",
    "Which Fast Food offering in the park has the fewest visitors?\n",
    "\n",
    "**Note:** Your output should be the name of the fast food offering."
   ]
  },
  {
   "cell_type": "code",
   "execution_count": 78,
   "metadata": {},
   "outputs": [
    {
     "name": "stdout",
     "output_type": "stream",
     "text": [
      "Theresaur Food Stop\n"
     ]
    }
   ],
   "source": [
    "# your code here for Q3\n",
    "query = \"select a.Name from checkin c inner join attraction a on c.attraction = a.AttractionID where a.type like '%Fast Food%' group by a.Name order by count(a.Name) limit 1\"\n",
    "dbconnection.execute(query)\n",
    "popular_attraction = dbconnection.fetchone()[0]\n",
    "print(popular_attraction)"
   ]
  },
  {
   "cell_type": "markdown",
   "metadata": {},
   "source": [
    "### Question 4:\n",
    "\n",
    "Compute the Skyline of number of visits and visit time for the park's ride and report the rides that appear in the Skyline. \n",
    "\n",
    "**Note:** Remember that in this case, higher visits is better and lower visit times are better. Your output should be formatted as a list of names of the rides in the Skyline. Your output should be three points, which can be given in any order(example output : ['Ride 1','Ride 2','Ride 3'] )\n"
   ]
  },
  {
   "cell_type": "code",
   "execution_count": 85,
   "metadata": {},
   "outputs": [
    {
     "name": "stdout",
     "output_type": "stream",
     "text": [
      "['Atmosfear', 'Dykesadactyl Thrill', 'Wrightiraptor Mountain']\n"
     ]
    }
   ],
   "source": [
    "# your code here for Q4\n",
    "query = \"select a.name, c.attraction, count(c.attraction), avg(SUBSTR(SUBSTR('0000000'||c.duration, LENGTH(c.duration),8),1,2)*3600 + SUBSTR(SUBSTR('0000000'||c.duration,LENGTH(c.duration),8),4,2)*60 + SUBSTR(SUBSTR('0000000'||c.duration,LENGTH(c.duration),8),7,2)) as duration from checkin c inner join attraction a on c.attraction = a.attractionID where lower(a.Category) like '%ride%' group by c.attraction\"\n",
    "dbconnection.execute(query)\n",
    "attractions = dbconnection.fetchall()\n",
    "df = pd.DataFrame (attractions, columns = ['name', 'attraction', 'num_visits', 'duration'])\n",
    "most_visits = 0\n",
    "lowest_time = math.inf\n",
    "best_both = [0, math.inf]\n",
    "for attraction in df['attraction']:\n",
    "    visitors = df.loc[df['attraction'] == attraction, 'num_visits'].iloc[0]\n",
    "    avg_duration = df.loc[df['attraction'] == attraction, 'duration'].iloc[0]\n",
    "    if visitors > most_visits:\n",
    "        most_visited_attraction = attraction\n",
    "        most_visits = visitors\n",
    "    if avg_duration < lowest_time:\n",
    "        lowest_waiting_time_attraction = attraction\n",
    "        lowest_time = avg_duration\n",
    "    if visitors > best_both[0] and avg_duration < best_both[1]:\n",
    "        best_both[0] = visitors\n",
    "        best_both[1] = avg_duration\n",
    "        best_both_attraction = attraction\n",
    "skyline = []\n",
    "skyline.append(df.loc[df['attraction'] == most_visited_attraction, 'name'].iloc[0])\n",
    "skyline.append(df.loc[df['attraction'] == lowest_waiting_time_attraction, 'name'].iloc[0])\n",
    "skyline.append(df.loc[df['attraction'] == best_both_attraction, 'name'].iloc[0])\n",
    "print(skyline)"
   ]
  },
  {
   "cell_type": "code",
   "execution_count": null,
   "metadata": {},
   "outputs": [],
   "source": []
  }
 ],
 "metadata": {
  "kernelspec": {
   "display_name": "Python 3",
   "language": "python",
   "name": "python3"
  },
  "language_info": {
   "codemirror_mode": {
    "name": "ipython",
    "version": 3
   },
   "file_extension": ".py",
   "mimetype": "text/x-python",
   "name": "python",
   "nbconvert_exporter": "python",
   "pygments_lexer": "ipython3",
   "version": "3.8.5"
  }
 },
 "nbformat": 4,
 "nbformat_minor": 2
}
